{
 "cells": [
  {
   "cell_type": "code",
   "execution_count": 2,
   "id": "cf1043d5",
   "metadata": {},
   "outputs": [
    {
     "name": "stdout",
     "output_type": "stream",
     "text": [
      "Enter kilometer : 10\n",
      "6.21371\n"
     ]
    }
   ],
   "source": [
    "#1.Write a Python program to convert kilometers to miles?\n",
    "\n",
    "x = int(input(\"Enter kilometer : \" ))\n",
    "\n",
    "miles = x * 0.621371\n",
    "\n",
    "print(miles)"
   ]
  },
  {
   "cell_type": "code",
   "execution_count": 3,
   "id": "f6ee8751",
   "metadata": {},
   "outputs": [
    {
     "name": "stdout",
     "output_type": "stream",
     "text": [
      "Enter the temperature in Celcius :100\n",
      "The equivalent fahrenheit is  212.0\n"
     ]
    }
   ],
   "source": [
    "#2.Write a Python program to convert Celsius to Fahrenheit?\n",
    "\n",
    "celcius = int(input(\"Enter the temperature in Celcius :\"))\n",
    "\n",
    "fahrenheit = (celcius * 9/5) + 32\n",
    "\n",
    "print(\"The equivalent fahrenheit is \", fahrenheit)\n",
    "\n"
   ]
  },
  {
   "cell_type": "code",
   "execution_count": 4,
   "id": "1b7d4575",
   "metadata": {},
   "outputs": [
    {
     "name": "stdout",
     "output_type": "stream",
     "text": [
      "Enter year: 2012\n",
      "Enter month: 11\n",
      "   November 2012\n",
      "Mo Tu We Th Fr Sa Su\n",
      "          1  2  3  4\n",
      " 5  6  7  8  9 10 11\n",
      "12 13 14 15 16 17 18\n",
      "19 20 21 22 23 24 25\n",
      "26 27 28 29 30\n",
      "\n"
     ]
    }
   ],
   "source": [
    "import calendar  \n",
    "  \n",
    "yy = int(input(\"Enter year: \"))  \n",
    "mm = int(input(\"Enter month: \"))  \n",
    "  \n",
    "  \n",
    "print(calendar.month(yy,mm))  "
   ]
  },
  {
   "cell_type": "code",
   "execution_count": 5,
   "id": "d7d390dc",
   "metadata": {},
   "outputs": [
    {
     "name": "stdout",
     "output_type": "stream",
     "text": [
      " Enter the value of 'a' : 10\n",
      " Enter the value of 'b' : 5\n",
      "The result of the quadractic equation is : 225\n"
     ]
    }
   ],
   "source": [
    "#4.Write a Python program to solve quadratic equation?\n",
    "\n",
    "a = int(input(\" Enter the value of 'a' : \"))\n",
    "b = int(input(\" Enter the value of 'b' : \"))\n",
    "\n",
    "#Quadratic Eq : (a+b)(a+b) = (a*a) + (b*b) + 2*a*b\n",
    "\n",
    "c = (a*a) + (b*b) + 2*a*b\n",
    "\n",
    "print(\"The result of the quadractic equation is :\", c)\n"
   ]
  },
  {
   "cell_type": "code",
   "execution_count": 8,
   "id": "e5d9fe92",
   "metadata": {},
   "outputs": [
    {
     "name": "stdout",
     "output_type": "stream",
     "text": [
      "Enter the value of a : 10\n",
      "Enter the value of b : 20\n",
      "old value of a is  10\n",
      "old value of b is  20\n",
      "new value of a is  20\n",
      "new value of b is  10\n",
      "Hence the Value of 'a' and 'b' is swapped\n"
     ]
    }
   ],
   "source": [
    "#5.\tWrite a Python program to swap two variables without temp variable?\n",
    "\n",
    "a = int(input('Enter the value of a : '))\n",
    "b = int(input('Enter the value of b : '))\n",
    "\n",
    "print('old value of a is ', a)\n",
    "print('old value of b is ',  b)\n",
    "a,b = b,a\n",
    "print('new value of a is ', a)\n",
    "print('new value of b is ',  b)\n",
    "print(\"Hence the Value of 'a' and 'b' is swapped\")"
   ]
  },
  {
   "cell_type": "code",
   "execution_count": null,
   "id": "7a49621e",
   "metadata": {},
   "outputs": [],
   "source": []
  }
 ],
 "metadata": {
  "kernelspec": {
   "display_name": "Python 3 (ipykernel)",
   "language": "python",
   "name": "python3"
  },
  "language_info": {
   "codemirror_mode": {
    "name": "ipython",
    "version": 3
   },
   "file_extension": ".py",
   "mimetype": "text/x-python",
   "name": "python",
   "nbconvert_exporter": "python",
   "pygments_lexer": "ipython3",
   "version": "3.9.13"
  }
 },
 "nbformat": 4,
 "nbformat_minor": 5
}
