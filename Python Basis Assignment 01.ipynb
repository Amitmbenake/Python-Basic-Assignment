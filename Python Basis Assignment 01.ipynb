{
 "cells": [
  {
   "cell_type": "raw",
   "id": "e4d230fc",
   "metadata": {},
   "source": [
    "1. In the below elements which of them are values or an expression? eg:- values can be integer or string and expressions will be mathematical operators.\n",
    "* \n",
    "'hello'\n",
    "-87.8\n",
    "- \n",
    "/ \n",
    "+\t\n",
    "6 \n",
    "\n",
    "Ans :\n",
    "\n",
    "Values are : -87.8, 6, 'hello'\n",
    "expressions are : *, - , / , +"
   ]
  },
  {
   "cell_type": "raw",
   "id": "80320fde",
   "metadata": {},
   "source": [
    "2. What is the difference between string and variable?\n",
    "\n",
    "Ans:\n",
    "\n",
    "String : String  is a collection of alphabets, words or other characters\n",
    "\n",
    "Variable : A variable is a symbolic name that is a reference or pointer to an object. Once an object is assigned to a variable, you can refer to the object by that name."
   ]
  },
  {
   "cell_type": "raw",
   "id": "6bb75756",
   "metadata": {},
   "source": [
    "3. Describe three different data types.\n",
    "\n",
    "Ans:\n",
    "\n",
    "int : integer are the whole numbers\n",
    "float : float are the numbers with decimal part\n",
    "str : String is a word or collection of character"
   ]
  },
  {
   "cell_type": "raw",
   "id": "81703ca9",
   "metadata": {},
   "source": [
    "4. What is an expression made up of? What do all expressions do?\n",
    "\n",
    "Ans:\n",
    "\n",
    "An expression is a combination of operators and operands that is interpreted to produce some other value.\n",
    "\n",
    "Expressions produce a value with respect to the condition\n",
    "\n"
   ]
  },
  {
   "cell_type": "raw",
   "id": "58cc5f74",
   "metadata": {},
   "source": [
    "5. This assignment statements, like spam = 10. What is the difference between an expression and a statement?\n",
    "\n",
    "Ans: \n",
    "\n",
    "Expressions produce a value, and that value will be passed into the function. \n",
    "Statements don't produce a value."
   ]
  },
  {
   "cell_type": "raw",
   "id": "a3a476e6",
   "metadata": {},
   "source": [
    "6. After running the following code, what does the variable bacon contain?\n",
    "bacon = 22\n",
    "bacon + 1\n",
    "\n",
    "Ans : bacon will still hold 22. "
   ]
  },
  {
   "cell_type": "raw",
   "id": "ea9b9365",
   "metadata": {},
   "source": [
    "7. What should the values of the following two terms be?\n",
    "'spam' + 'spamspam'\n",
    "'spam' * 3\n",
    "\n",
    "Ans : \n",
    "\n",
    "'spam' + 'spamspam' --> 'spamspamspam'\n",
    "'spam' * 3 --> 'spamspamspam'\n",
    "\n"
   ]
  },
  {
   "cell_type": "raw",
   "id": "1c91b887",
   "metadata": {},
   "source": [
    "8. Why is eggs a valid variable name while 100 is invalid?\n",
    "\n",
    "Ans:\n",
    "\n",
    "Because the variable name cannot start with number. "
   ]
  },
  {
   "cell_type": "raw",
   "id": "9f6148b1",
   "metadata": {},
   "source": [
    "9. What three functions can be used to get the integer, floating-point number, or string version of a value?\n",
    "\n",
    "Ans : \n",
    "\n",
    "int, float and str functions can be used."
   ]
  },
  {
   "cell_type": "raw",
   "id": "6b0bfa3c",
   "metadata": {},
   "source": [
    "10. Why does this expression cause an error? How can you fix it?\n",
    "'I have eaten ' + 99 + ' burritos.'\n",
    "\n",
    "Ans : \n",
    "The error we get is related to incorrect concatenation. \n",
    "\n",
    "the correct way of writing is : 'I have eaten ' + '99' + ' burritos.'\n",
    "\n",
    "\n"
   ]
  },
  {
   "cell_type": "code",
   "execution_count": null,
   "id": "c3ef2ca9",
   "metadata": {},
   "outputs": [],
   "source": []
  }
 ],
 "metadata": {
  "kernelspec": {
   "display_name": "Python 3 (ipykernel)",
   "language": "python",
   "name": "python3"
  },
  "language_info": {
   "codemirror_mode": {
    "name": "ipython",
    "version": 3
   },
   "file_extension": ".py",
   "mimetype": "text/x-python",
   "name": "python",
   "nbconvert_exporter": "python",
   "pygments_lexer": "ipython3",
   "version": "3.9.13"
  }
 },
 "nbformat": 4,
 "nbformat_minor": 5
}
